{
 "cells": [
  {
   "cell_type": "code",
   "execution_count": 1,
   "id": "db1c620b-2d05-4c78-95e6-0f6b960b1500",
   "metadata": {},
   "outputs": [
    {
     "name": "stdout",
     "output_type": "stream",
     "text": [
      "            Date  Price     Open     High      Low  Vol. Change %\n",
      "0   Jun 30, 2025  49.69  49.6300  49.7100  49.6800   NaN    0.00%\n",
      "1   Jun 29, 2025  49.69  49.8700  50.0500  49.6350   NaN   -0.36%\n",
      "2   Jun 28, 2025  49.87  49.8700  49.8700  49.8700   NaN    0.00%\n",
      "3   Jun 27, 2025  49.87  49.8700  49.8700  49.8700   NaN   -0.06%\n",
      "4   Jun 26, 2025  49.90  49.9000  49.9000  49.9000   NaN    0.00%\n",
      "5   Jun 25, 2025  49.90  50.0700  50.0700  49.8438   NaN   -0.30%\n",
      "6   Jun 24, 2025  50.05  50.6800  50.7050  49.9375   NaN   -1.24%\n",
      "7   Jun 23, 2025  50.68  50.8100  50.8200  50.4887   NaN   -0.24%\n",
      "8   Jun 22, 2025  50.80  50.6300  50.9750  50.5500   NaN   +0.34%\n",
      "9   Jun 21, 2025  50.63  50.6500  50.6500  50.6300   NaN   -0.08%\n",
      "10  Jun 20, 2025  50.67  50.6700  50.6700  50.6300   NaN    0.00%\n",
      "11  Jun 19, 2025  50.67  50.5500  50.7325  50.5200   NaN   +0.30%\n",
      "12  Jun 18, 2025  50.52  50.1200  50.6400  50.0750   NaN   +0.74%\n",
      "13  Jun 17, 2025  50.15  50.2600  50.3800  50.0975   NaN   -0.22%\n",
      "14  Jun 16, 2025  50.26  50.6100  50.7400  50.2000   NaN   -0.69%\n",
      "15  Jun 15, 2025  50.61  49.7400  50.8400  49.6700   NaN   +1.75%\n",
      "16  Jun 14, 2025  49.74  49.7400  49.7400  49.7400   NaN    0.00%\n",
      "17  Jun 13, 2025  49.74  49.7400  49.7400  49.7400   NaN   -0.06%\n",
      "18  Jun 12, 2025  49.77  49.5200  49.9450  49.4500   NaN   +0.53%\n",
      "19  Jun 11, 2025  49.51  49.5300  49.5650  49.4150   NaN   -0.04%\n",
      "20  Jun 10, 2025  49.53  49.6400  49.6700  49.4400   NaN   -0.22%\n",
      "21  Jun 09, 2025  49.64  49.6400  49.6400  49.6400   NaN    0.00%\n",
      "22  Jun 08, 2025  49.64  49.6400  49.6400  49.6400   NaN    0.00%\n",
      "23  Jun 07, 2025  49.64  49.6400  49.6400  49.6400   NaN   +0.04%\n",
      "24  Jun 06, 2025  49.62  49.6388  49.6388  49.6200   NaN   -0.06%\n",
      "25  Jun 05, 2025  49.65  49.6388  49.6513  49.6375   NaN   -0.04%\n",
      "26  Jun 04, 2025  49.67  49.6700  49.7350  49.5850   NaN    0.00%\n",
      "27  Jun 03, 2025  49.67  49.6900  49.7400  49.6325   NaN   -0.02%\n",
      "28  Jun 02, 2025  49.68  49.7000  49.8250  49.6413   NaN   -0.04%\n",
      "29  Jun 01, 2025  49.70  49.7200  49.8500  49.6200   NaN   -0.04%\n",
      "30  May 31, 2025  49.72  49.7650  49.7650  49.7200   NaN   -0.08%\n",
      "31  May 30, 2025  49.76  49.7650  49.7650  49.7200   NaN    0.00%\n"
     ]
    },
    {
     "name": "stderr",
     "output_type": "stream",
     "text": [
      "C:\\Users\\thegh\\AppData\\Local\\Temp\\ipykernel_22372\\730991115.py:35: FutureWarning: Passing literal html to 'read_html' is deprecated and will be removed in a future version. To read from a literal string, wrap it in a 'StringIO' object.\n",
      "  df = pd.read_html(str(table))[0]\n"
     ]
    }
   ],
   "source": [
    "from selenium import webdriver\n",
    "from selenium.webdriver.chrome.service import Service\n",
    "from selenium.webdriver.chrome.options import Options\n",
    "from bs4 import BeautifulSoup\n",
    "import pandas as pd\n",
    "import time\n",
    "\n",
    "# Configure Selenium options\n",
    "options = Options()\n",
    "options.headless = True\n",
    "options.add_argument(\"window-size=1920x1080\")\n",
    "options.add_argument(\"user-agent=Mozilla/5.0\")\n",
    "\n",
    "# Path to your ChromeDriver\n",
    "service = Service(executable_path='chromedriver.exe')  # Replace with full path if needed\n",
    "driver = webdriver.Chrome(service=service, options=options)\n",
    "\n",
    "# Open the target URL\n",
    "url = 'https://www.investing.com/currencies/usd-egp-historical-data'\n",
    "driver.get(url)\n",
    "\n",
    "# Wait for the page to load content\n",
    "time.sleep(5)  # Increase if needed based on your internet speed\n",
    "\n",
    "# Parse the HTML\n",
    "soup = BeautifulSoup(driver.page_source, 'html.parser')\n",
    "\n",
    "# Close the browser\n",
    "driver.quit()\n",
    "\n",
    "# Locate the table\n",
    "table = soup.find('table', class_='freeze-column-w-1 w-full overflow-x-auto text-xs leading-4')\n",
    "\n",
    "# Parse table into DataFrame\n",
    "df = pd.read_html(str(table))[0]\n",
    "\n",
    "# Print or save the table\n",
    "print(df)\n",
    "df.to_csv('usd_egp_historical.csv', index=False)\n"
   ]
  },
  {
   "cell_type": "code",
   "execution_count": null,
   "id": "c103ab7d-a2af-484b-83d2-76c5c11025b0",
   "metadata": {},
   "outputs": [],
   "source": []
  }
 ],
 "metadata": {
  "kernelspec": {
   "display_name": "Python 3 (ipykernel)",
   "language": "python",
   "name": "python3"
  },
  "language_info": {
   "codemirror_mode": {
    "name": "ipython",
    "version": 3
   },
   "file_extension": ".py",
   "mimetype": "text/x-python",
   "name": "python",
   "nbconvert_exporter": "python",
   "pygments_lexer": "ipython3",
   "version": "3.10.16"
  }
 },
 "nbformat": 4,
 "nbformat_minor": 5
}
