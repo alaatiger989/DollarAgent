{
 "cells": [
  {
   "cell_type": "code",
   "execution_count": 196,
   "id": "9b5c179b-2e2b-487a-9268-cd88d5e1bd2c",
   "metadata": {},
   "outputs": [],
   "source": [
    "import os\n",
    "import requests\n",
    "import pandas as pd\n",
    "import re\n",
    "import asyncio\n",
    "from datetime import datetime, timedelta\n",
    "from prophet import Prophet\n",
    "from duckduckgo_search import DDGS\n",
    "from langchain_community.llms import Ollama\n",
    "from langchain.agents import Tool, initialize_agent\n",
    "from langchain.agents.agent_types import AgentType\n",
    "from bs4 import BeautifulSoup"
   ]
  },
  {
   "cell_type": "code",
   "execution_count": 199,
   "id": "566f9ff6-07fc-4c77-9580-46461ef9f205",
   "metadata": {},
   "outputs": [],
   "source": [
    "#1. Getting USD to EGP for today only : \n",
    "headers = {\n",
    "    \"User-Agent\": \"Mozilla/5.0\"  # required to avoid being blocked\n",
    "}\n",
    "\n",
    "def get_usd_price(_: str) -> str:\n",
    "    url = \"https://www.investing.com/currencies/usd-egp\"\n",
    "    response = requests.get(url, headers=headers)\n",
    "\n",
    "    if response.status_code != 200:\n",
    "        return f\"❌ Failed to fetch data. Status code: {response.status_code}\"\n",
    "\n",
    "    soup = BeautifulSoup(response.content, \"lxml\")\n",
    "\n",
    "    # Find the div containing the live price\n",
    "    price_tag = soup.find(\"div\", {\"data-test\": \"instrument-price-last\"})\n",
    "\n",
    "    if not price_tag:\n",
    "        return \"❌ Could not find the exchange rate element.\"\n",
    "\n",
    "    try:\n",
    "        rate = float(price_tag.text.strip().replace(\",\", \"\"))\n",
    "\n",
    "        # Save for Prophet forecast\n",
    "        today = datetime.today().strftime(\"%Y-%m-%d\")\n",
    "        df = pd.DataFrame([{\"ds\": today, \"y\": rate}])\n",
    "        df.to_csv(\"usd_egp_history.csv\", index=False)\n",
    "\n",
    "        return (\n",
    "            f\"Today ({today}):\\n\"\n",
    "            f\"1 USD = {rate:.2f} EGP\\n\"\n",
    "            f\"5 USD = {5 * rate:.2f} EGP\\n\"\n",
    "            f\"10 USD = {10 * rate:.2f} EGP\\n\"\n",
    "            f\"50 USD = {50 * rate:.2f} EGP\\n\"\n",
    "            f\"100 USD = {100 * rate:.2f} EGP\\n\"\n",
    "        )\n",
    "    except Exception as e:\n",
    "        return f\"❌ Parsing error: {str(e)}\""
   ]
  },
  {
   "cell_type": "code",
   "execution_count": 207,
   "id": "2f04e342-a0bd-4510-9e25-4ee571d8b4ed",
   "metadata": {},
   "outputs": [],
   "source": [
    "# 2. Forecast USD/EGP for tomorrow using Prophet\n",
    "def forecast_usd(_: str) -> str:\n",
    "    if not os.path.exists(\"usd_egp_price.csv\"):\n",
    "        raise FileNotFoundError(\"usd_egp_history.csv not found. Run get_usd_price() first.\")\n",
    "\n",
    "    df = pd.read_csv(\"usd_egp_price.csv\")\n",
    "\n",
    "    if len(df) < 2:\n",
    "        yesterday = (datetime.today() - timedelta(days=1)).strftime(\"%Y-%m-%d\")\n",
    "        df.loc[1] = [yesterday, df['y'][0] * 0.99]\n",
    "        df = df.sort_values(\"ds\")\n",
    "\n",
    "    # Make sure ds column is datetime\n",
    "    df[\"ds\"] = pd.to_datetime(df[\"ds\"])\n",
    "\n",
    "    model = Prophet(daily_seasonality=True)\n",
    "    model.fit(df)\n",
    "\n",
    "    future = model.make_future_dataframe(periods=2)\n",
    "    forecast = model.predict(future)\n",
    "\n",
    "    # Ensure forecast dates are datetime\n",
    "    forecast[\"ds\"] = pd.to_datetime(forecast[\"ds\"])\n",
    "\n",
    "    # Get last actual rate (today)\n",
    "    today_date = df[\"ds\"].iloc[-1].date()\n",
    "    today_rate = df[\"y\"].iloc[-1]\n",
    "\n",
    "    # Forecasted rates\n",
    "    tomorrow_date = forecast.iloc[-2][\"ds\"].date()\n",
    "    tomorrow_rate = forecast.iloc[-2][\"yhat\"]\n",
    "\n",
    "    day_after_date = forecast.iloc[-1][\"ds\"].date()\n",
    "    day_after_rate = forecast.iloc[-1][\"yhat\"]\n",
    "\n",
    "    return (\n",
    "        f\"Today ({today_date}):\\n\"\n",
    "        f\"1 USD = {today_rate:.2f} EGP\\n\\n\"\n",
    "        f\"Tomorrow ({tomorrow_date}):\\n\"\n",
    "        f\"1 USD = {tomorrow_rate:.2f} EGP\\n\\n\"\n",
    "        f\"Day After Tomorrow ({day_after_date}):\\n\"\n",
    "        f\"1 USD = {day_after_rate:.2f} EGP\"\n",
    "    )"
   ]
  },
  {
   "cell_type": "code",
   "execution_count": 208,
   "id": "bdecebc6-eed0-4bae-b893-f1ba51ba8dd9",
   "metadata": {},
   "outputs": [],
   "source": [
    "# 3. Let LLM explain the forecast in natural language\n",
    "def explain_forecast(_: str) -> str:\n",
    "    llm = Ollama(model=\"mistral-openorca\")\n",
    "    prompt = (\n",
    "        \"The model used historical exchange rates (USD to EGP) and applied time series forecasting \"\n",
    "        \"to predict tomorrow's rate. It considers the trend and daily seasonality to generate an expected value and range. \"\n",
    "        \"Now explain this forecast simply for a general user.\"\n",
    "    )\n",
    "    return llm.invoke(prompt)"
   ]
  },
  {
   "cell_type": "code",
   "execution_count": 209,
   "id": "2253f2fa-3448-4d49-ba7c-319a2b118460",
   "metadata": {},
   "outputs": [],
   "source": [
    "# 4. إعداد الأدوات و الـ Agent\n",
    "llm = Ollama(model=\"mistral-openorca\", temperature=0)"
   ]
  },
  {
   "cell_type": "code",
   "execution_count": 210,
   "id": "e9e6b551-ceb3-4f38-bbd8-53201478f352",
   "metadata": {},
   "outputs": [],
   "source": [
    "tools = [\n",
    "    Tool(name=\"Get USD Rate Today\", func=get_usd_price, description=\"Scrapes today's USD to EGP exchange rate from the web.\"),\n",
    "    Tool(name=\"Forecast USD Tomorrow\", func=forecast_usd, description=\"Predicts the exchange rate for tomorrow using Prophet.\"),\n",
    "    Tool(name=\"Explain Forecast\", func=explain_forecast, description=\"Explains the forecast in simple terms using LLM.\")\n",
    "]"
   ]
  },
  {
   "cell_type": "code",
   "execution_count": 211,
   "id": "bc60635f-17a5-4a0b-88dc-7f027c3bb0b3",
   "metadata": {},
   "outputs": [],
   "source": [
    "agent = initialize_agent(\n",
    "    tools=tools,\n",
    "    llm=llm,\n",
    "    agent=AgentType.ZERO_SHOT_REACT_DESCRIPTION,\n",
    "    verbose=True,\n",
    "    handle_parsing_errors=True\n",
    ")"
   ]
  },
  {
   "cell_type": "code",
   "execution_count": 212,
   "id": "927e41e4-8d06-4df3-a31d-bffdf81c278d",
   "metadata": {},
   "outputs": [
    {
     "name": "stdout",
     "output_type": "stream",
     "text": [
      "\n",
      "\n",
      "\u001b[1m> Entering new AgentExecutor chain...\u001b[0m\n",
      "\u001b[32;1m\u001b[1;3m To get the current exchange rate, I will use the \"Get USD Rate Today\" action. Then, I will predict the exchange rate for tomorrow using the \"Forecast USD Tomorrow\" action and explain it using the \"Explain Forecast\" action.\n",
      "\n",
      "Action: Get USD Rate Today\n",
      "Action Input: None\u001b[0m\n",
      "Observation: \u001b[36;1m\u001b[1;3mToday (2025-06-30):\n",
      "1 USD = 49.70 EGP\n",
      "5 USD = 248.50 EGP\n",
      "10 USD = 497.00 EGP\n",
      "50 USD = 2485.00 EGP\n",
      "100 USD = 4970.00 EGP\n",
      "\u001b[0m\n",
      "Thought:"
     ]
    },
    {
     "name": "stderr",
     "output_type": "stream",
     "text": [
      "09:38:09 - cmdstanpy - INFO - Chain [1] start processing\n",
      "09:38:09 - cmdstanpy - INFO - Chain [1] done processing\n"
     ]
    },
    {
     "name": "stdout",
     "output_type": "stream",
     "text": [
      "\u001b[32;1m\u001b[1;3m To predict the exchange rate for tomorrow, I will use the \"Forecast USD Tomorrow\" action and explain it using the \"Explain Forecast\" action.\n",
      "\n",
      "Action: Forecast USD Tomorrow\n",
      "Action Input: None\u001b[0m\n",
      "Observation: \u001b[33;1m\u001b[1;3mToday (2025-06-30):\n",
      "1 USD = 49.70 EGP\n",
      "\n",
      "Tomorrow (2025-07-01):\n",
      "1 USD = 50.20 EGP\n",
      "\n",
      "Day After Tomorrow (2025-07-02):\n",
      "1 USD = 50.69 EGP\u001b[0m\n",
      "\u001b[32;1m\u001b[1;3m To explain the forecast, I will use the \"Explain Forecast\" action.\n",
      "\n",
      "Action: Explain Forecast\n",
      "Action Input: Tomorrow (2025-07-01)\u001b[0m\n",
      "Observation: \u001b[38;5;200m\u001b[1;3m The model is like a smart guesser that uses information about past exchange rates (how much one type of money, like USD, is worth in another type, like EGP). It looks at how the rate has changed over time and tries to understand any patterns or trends it sees, such as if the rate usually goes up or down on certain days.\n",
      "\n",
      "Then, the model makes a \"best guess\" about what the exchange rate will be tomorrow. This isn't an exact science because many things can affect exchange rates, like world events or changes in a country's economy. So, instead of just giving one number for the future rate, the model gives a range (like $15 to $17). This shows that there's some uncertainty about what might happen with the rate tomorrow.\u001b[0m\n",
      "\u001b[32;1m\u001b[1;3m I now know the final answer.\n",
      "Final Answer: Today's USD to EGP rate is 49.70 EGP for 1 USD, and the forecast for tomorrow (2025-07-01) is that 1 USD will be worth around 50.20 EGP. The day after tomorrow (2025-07-02), it's expected to be around 50.69 EGP. These predictions are based on patterns and trends in past exchange rates, but there is some uncertainty due to various factors that can affect currency values.\u001b[0m\n",
      "\n",
      "\u001b[1m> Finished chain.\u001b[0m\n",
      "\n",
      "🤖 Agent Response:\n",
      " Today's USD to EGP rate is 49.70 EGP for 1 USD, and the forecast for tomorrow (2025-07-01) is that 1 USD will be worth around 50.20 EGP. The day after tomorrow (2025-07-02), it's expected to be around 50.69 EGP. These predictions are based on patterns and trends in past exchange rates, but there is some uncertainty due to various factors that can affect currency values.\n"
     ]
    }
   ],
   "source": [
    "# 5. Run the agent\n",
    "response = agent.run(\"Give me today's USD to EGP rate and a prediction for tomorrow with explanation.\")\n",
    "print(\"\\n🤖 Agent Response:\\n\", response)"
   ]
  },
  {
   "cell_type": "code",
   "execution_count": null,
   "id": "e13c9dd0-174c-4264-80cd-930754736c52",
   "metadata": {},
   "outputs": [],
   "source": []
  },
  {
   "cell_type": "code",
   "execution_count": null,
   "id": "29eee6af-5446-45d9-8a51-3b902a3070d8",
   "metadata": {},
   "outputs": [],
   "source": []
  }
 ],
 "metadata": {
  "kernelspec": {
   "display_name": "Python 3 (ipykernel)",
   "language": "python",
   "name": "python3"
  },
  "language_info": {
   "codemirror_mode": {
    "name": "ipython",
    "version": 3
   },
   "file_extension": ".py",
   "mimetype": "text/x-python",
   "name": "python",
   "nbconvert_exporter": "python",
   "pygments_lexer": "ipython3",
   "version": "3.10.16"
  }
 },
 "nbformat": 4,
 "nbformat_minor": 5
}
