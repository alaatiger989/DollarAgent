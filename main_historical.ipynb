{
 "cells": [
  {
   "cell_type": "code",
   "execution_count": 1,
   "id": "9b5c179b-2e2b-487a-9268-cd88d5e1bd2c",
   "metadata": {},
   "outputs": [
    {
     "name": "stderr",
     "output_type": "stream",
     "text": [
      "C:\\Users\\thegh\\anaconda3\\envs\\llm_container_env\\lib\\site-packages\\tqdm\\auto.py:21: TqdmWarning: IProgress not found. Please update jupyter and ipywidgets. See https://ipywidgets.readthedocs.io/en/stable/user_install.html\n",
      "  from .autonotebook import tqdm as notebook_tqdm\n",
      "Importing plotly failed. Interactive plots will not work.\n"
     ]
    }
   ],
   "source": [
    "import os\n",
    "import requests\n",
    "import pandas as pd\n",
    "import re\n",
    "import asyncio\n",
    "from datetime import datetime, timedelta\n",
    "from prophet import Prophet\n",
    "from duckduckgo_search import DDGS\n",
    "from langchain_community.llms import Ollama\n",
    "from langchain.agents import Tool, initialize_agent\n",
    "from langchain.agents.agent_types import AgentType\n",
    "from bs4 import BeautifulSoup"
   ]
  },
  {
   "cell_type": "code",
   "execution_count": 41,
   "id": "2f04e342-a0bd-4510-9e25-4ee571d8b4ed",
   "metadata": {},
   "outputs": [],
   "source": [
    "# 2. Forecast USD/EGP for tomorrow using Prophet\n",
    "def forecast_usd(_: str = \"\") -> str:\n",
    "    file_path = \"usd_egp_historical.csv\"\n",
    "    if not os.path.exists(file_path):\n",
    "        raise FileNotFoundError(f\"{file_path} not found.\")\n",
    "\n",
    "    # Read without type coercion\n",
    "    raw_df = pd.read_csv(file_path, dtype=str)\n",
    "\n",
    "    if \"Date\" not in raw_df.columns or \"Price\" not in raw_df.columns:\n",
    "        raise ValueError(\"CSV must contain 'Date' and 'Price' columns.\")\n",
    "\n",
    "    # Try automatic date parsing for mixed formats\n",
    "    try:\n",
    "        raw_df[\"ds\"] = pd.to_datetime(raw_df[\"Date\"])\n",
    "    except Exception as e:\n",
    "        raise ValueError(f\"Failed to parse dates: {e}\")\n",
    "\n",
    "    # Convert Price to float\n",
    "    raw_df[\"y\"] = pd.to_numeric(raw_df[\"Price\"], errors=\"coerce\")\n",
    "\n",
    "    # Clean and sort\n",
    "    df = raw_df[[\"ds\", \"y\"]].dropna()\n",
    "    df = df.sort_values(\"ds\")\n",
    "\n",
    "    if len(df) < 2:\n",
    "        raise ValueError(\"Not enough clean data to forecast. At least 2 rows are required.\")\n",
    "\n",
    "    # Prophet forecast\n",
    "    model = Prophet(daily_seasonality=True)\n",
    "    model.fit(df)\n",
    "\n",
    "    future = model.make_future_dataframe(periods=2)\n",
    "    forecast = model.predict(future)\n",
    "\n",
    "    # Latest values\n",
    "    today_date = df[\"ds\"].iloc[-1].date()\n",
    "    today_rate = df[\"y\"].iloc[-1]\n",
    "\n",
    "    tomorrow_row = forecast.iloc[-2]\n",
    "    day_after_row = forecast.iloc[-1]\n",
    "\n",
    "    return (\n",
    "        f\"Today ({today_date}):\\n\"\n",
    "        f\"1 USD = {today_rate:.2f} EGP\\n\\n\"\n",
    "        f\"Tomorrow ({tomorrow_row['ds'].date()}):\\n\"\n",
    "        f\"1 USD = {tomorrow_row['yhat']:.2f} EGP\\n\\n\"\n",
    "        f\"Day After Tomorrow ({day_after_row['ds'].date()}):\\n\"\n",
    "        f\"1 USD = {day_after_row['yhat']:.2f} EGP\"\n",
    "    )\n"
   ]
  },
  {
   "cell_type": "code",
   "execution_count": 42,
   "id": "bdecebc6-eed0-4bae-b893-f1ba51ba8dd9",
   "metadata": {},
   "outputs": [],
   "source": [
    "# 3. Let LLM explain the forecast in natural language\n",
    "def explain_forecast(_: str) -> str:\n",
    "    llm = Ollama(model=\"mistral-openorca\")\n",
    "    prompt = (\n",
    "        \"The model used historical exchange rates (USD to EGP) and applied time series forecasting \"\n",
    "        \"to predict tomorrow's rate. It considers the trend and daily seasonality to generate an expected value and range. \"\n",
    "        \"Now explain this forecast simply for a general user.\"\n",
    "    )\n",
    "    return llm.invoke(prompt)"
   ]
  },
  {
   "cell_type": "code",
   "execution_count": 43,
   "id": "2253f2fa-3448-4d49-ba7c-319a2b118460",
   "metadata": {},
   "outputs": [],
   "source": [
    "# 4. إعداد الأدوات و الـ Agent\n",
    "llm = Ollama(model=\"mistral-openorca\", temperature=0)"
   ]
  },
  {
   "cell_type": "code",
   "execution_count": 44,
   "id": "e9e6b551-ceb3-4f38-bbd8-53201478f352",
   "metadata": {},
   "outputs": [],
   "source": [
    "tools = [\n",
    "    #Tool(name=\"Get USD Rate Today\", func=get_usd_price, description=\"Scrapes today's USD to EGP exchange rate from the web.\"),\n",
    "    Tool(name=\"Forecast USD Tomorrow\", func=forecast_usd, description=\"Predicts the exchange rate for tomorrow using Prophet.\"),\n",
    "    Tool(name=\"Explain Forecast\", func=explain_forecast, description=\"Explains the forecast in simple terms using LLM.\")\n",
    "]"
   ]
  },
  {
   "cell_type": "code",
   "execution_count": 45,
   "id": "bc60635f-17a5-4a0b-88dc-7f027c3bb0b3",
   "metadata": {},
   "outputs": [],
   "source": [
    "agent = initialize_agent(\n",
    "    tools=tools,\n",
    "    llm=llm,\n",
    "    agent=AgentType.ZERO_SHOT_REACT_DESCRIPTION,\n",
    "    verbose=True,\n",
    "    handle_parsing_errors=True\n",
    ")"
   ]
  },
  {
   "cell_type": "code",
   "execution_count": 46,
   "id": "927e41e4-8d06-4df3-a31d-bffdf81c278d",
   "metadata": {},
   "outputs": [
    {
     "name": "stdout",
     "output_type": "stream",
     "text": [
      "\n",
      "\n",
      "\u001b[1m> Entering new AgentExecutor chain...\u001b[0m\n"
     ]
    },
    {
     "name": "stderr",
     "output_type": "stream",
     "text": [
      "10:48:03 - cmdstanpy - INFO - Chain [1] start processing\n"
     ]
    },
    {
     "name": "stdout",
     "output_type": "stream",
     "text": [
      "\u001b[32;1m\u001b[1;3m To find the current exchange rate, we need to use the Forecast USD Tomorrow action.\n",
      "\n",
      "Action: Forecast USD Tomorrow\n",
      "Action Input: Today's date\u001b[0m"
     ]
    },
    {
     "name": "stderr",
     "output_type": "stream",
     "text": [
      "10:48:03 - cmdstanpy - INFO - Chain [1] done processing\n"
     ]
    },
    {
     "name": "stdout",
     "output_type": "stream",
     "text": [
      "\n",
      "Observation: \u001b[36;1m\u001b[1;3mToday (2025-06-30):\n",
      "1 USD = 49.69 EGP\n",
      "\n",
      "Tomorrow (2025-07-01):\n",
      "1 USD = 49.20 EGP\n",
      "\n",
      "Day After Tomorrow (2025-07-02):\n",
      "1 USD = 49.10 EGP\u001b[0m\n",
      "Thought:"
     ]
    },
    {
     "name": "stderr",
     "output_type": "stream",
     "text": [
      "10:48:07 - cmdstanpy - INFO - Chain [1] start processing\n"
     ]
    },
    {
     "name": "stdout",
     "output_type": "stream",
     "text": [
      "\u001b[32;1m\u001b[1;3m To predict the exchange rate for tomorrow, we need to use the Forecast USD Tomorrow action again with tomorrow's date as input.\n",
      "\n",
      "Action: Forecast USD Tomorrow\n",
      "Action Input: Tomorrow's date (2025-07-01)\u001b[0m"
     ]
    },
    {
     "name": "stderr",
     "output_type": "stream",
     "text": [
      "10:48:07 - cmdstanpy - INFO - Chain [1] done processing\n"
     ]
    },
    {
     "name": "stdout",
     "output_type": "stream",
     "text": [
      "\n",
      "Observation: \u001b[36;1m\u001b[1;3mToday (2025-06-30):\n",
      "1 USD = 49.69 EGP\n",
      "\n",
      "Tomorrow (2025-07-01):\n",
      "1 USD = 49.20 EGP\n",
      "\n",
      "Day After Tomorrow (2025-07-02):\n",
      "1 USD = 49.10 EGP\u001b[0m\n",
      "\u001b[32;1m\u001b[1;3m To explain the forecast, we need to use the Explain Forecast action with the prediction for tomorrow as input.\n",
      "\n",
      "Action: Explain Forecast\n",
      "Action Input: Tomorrow's date (2025-07-01)\u001b[0m\n",
      "Observation: \u001b[33;1m\u001b[1;3m The model is using information from past currency exchanges (like how many US Dollars were equivalent to Egyptian Pounds on different days) and trying to guess what tomorrow's rate might be. It looks at patterns, like if rates generally go up or down over time, and daily changes, like if rates usually change more during weekdays than weekends. This helps it make a best guess of what the rate will be tomorrow, along with a range that it thinks it could be in.\u001b[0m\n",
      "\u001b[32;1m\u001b[1;3m Final Answer: Today's USD to EGP rate is 1 USD = 49.69 EGP. Tomorrow's forecast predicts that 1 USD will be equivalent to 49.20 EGP, and the day after tomorrow it might be 49.10 EGP. The model uses past currency exchange information and patterns to make these predictions.\u001b[0m\n",
      "\n",
      "\u001b[1m> Finished chain.\u001b[0m\n",
      "\n",
      "🤖 Agent Response:\n",
      " Today's USD to EGP rate is 1 USD = 49.69 EGP. Tomorrow's forecast predicts that 1 USD will be equivalent to 49.20 EGP, and the day after tomorrow it might be 49.10 EGP. The model uses past currency exchange information and patterns to make these predictions.\n"
     ]
    }
   ],
   "source": [
    "# 5. Run the agent\n",
    "response = agent.run(\"Give me today's USD to EGP rate and a prediction for tomorrow with explanation.\")\n",
    "print(\"\\n🤖 Agent Response:\\n\", response)"
   ]
  },
  {
   "cell_type": "code",
   "execution_count": null,
   "id": "e13c9dd0-174c-4264-80cd-930754736c52",
   "metadata": {},
   "outputs": [],
   "source": []
  },
  {
   "cell_type": "code",
   "execution_count": null,
   "id": "29eee6af-5446-45d9-8a51-3b902a3070d8",
   "metadata": {},
   "outputs": [],
   "source": []
  }
 ],
 "metadata": {
  "kernelspec": {
   "display_name": "Python 3 (ipykernel)",
   "language": "python",
   "name": "python3"
  },
  "language_info": {
   "codemirror_mode": {
    "name": "ipython",
    "version": 3
   },
   "file_extension": ".py",
   "mimetype": "text/x-python",
   "name": "python",
   "nbconvert_exporter": "python",
   "pygments_lexer": "ipython3",
   "version": "3.10.16"
  }
 },
 "nbformat": 4,
 "nbformat_minor": 5
}
